{
 "cells": [
  {
   "cell_type": "markdown",
   "metadata": {},
   "source": [
    "# Imports"
   ]
  },
  {
   "cell_type": "code",
   "execution_count": 1,
   "metadata": {},
   "outputs": [],
   "source": [
    "import numpy as np\n",
    "import pandas as pd\n",
    "\n",
    "from sklearn.datasets import load_iris, load_breast_cancer, load_digits, load_wine\n",
    "from sklearn.model_selection import train_test_split, cross_val_score\n",
    "from sklearn.preprocessing import StandardScaler, OneHotEncoder\n",
    "from sklearn.neighbors import KNeighborsClassifier\n",
    "from sklearn.svm import SVC, SVR\n",
    "from sklearn.tree import DecisionTreeClassifier\n",
    "from sklearn.metrics import accuracy_score, classification_report\n",
    "from sklearn.pipeline import Pipeline, make_pipeline\n",
    "\n",
    "import matplotlib.pyplot as plt\n",
    "\n",
    "from collections import Counter\n"
   ]
  },
  {
   "cell_type": "markdown",
   "metadata": {},
   "source": [
    "# Week 1"
   ]
  },
  {
   "cell_type": "markdown",
   "metadata": {},
   "source": [
    "## Naive Bayes"
   ]
  },
  {
   "cell_type": "code",
   "execution_count": 32,
   "metadata": {},
   "outputs": [],
   "source": [
    "class NaiveBayes:\n",
    "    def __inin__(self):\n",
    "        pass\n",
    "    "
   ]
  },
  {
   "cell_type": "markdown",
   "metadata": {},
   "source": [
    "## KNN"
   ]
  },
  {
   "cell_type": "code",
   "execution_count": 33,
   "metadata": {},
   "outputs": [],
   "source": [
    "class KNNClassifier:\n",
    "    def __init__(self, k=3):\n",
    "        self.k = k\n",
    "        self.X_train = None\n",
    "        self.y_train = None\n",
    "    def fit(self,X,y):\n",
    "        self.X_train = X\n",
    "        self.y_train = y\n",
    "    def euclidean_distance(self, x1, x2): \n",
    "        return np.sqrt(np.sum((x1 - x2)**2))\n",
    "    def predict(self, X):\n",
    "        predictions = [self._predict(x) for x in X]\n",
    "        return np.array(predictions)\n",
    "    def _predict(self, x):\n",
    "        distance = [self.euclidean_distance(X_train_item,x) for X_train_item in self.X_train]\n",
    "        indices = np.argsort(distance)[:self.k]\n",
    "        return np.mean(self.y_train[indices])\n"
   ]
  },
  {
   "cell_type": "markdown",
   "metadata": {},
   "source": [
    "### Huizen"
   ]
  },
  {
   "cell_type": "code",
   "execution_count": 34,
   "metadata": {},
   "outputs": [
    {
     "name": "stdout",
     "output_type": "stream",
     "text": [
      "Predicted house prices: [276666.67 223333.33]\n"
     ]
    }
   ],
   "source": [
    "X_train = np.array([\n",
    "    [0, 0, 1000, 2, 1],\n",
    "    [1, 1, 1500, 3, 2],\n",
    "    [2, 2, 1200, 2, 1],\n",
    "    [3, 3, 1800, 4, 2],\n",
    "    [4, 4, 2000, 3, 2]\n",
    "])\n",
    "\n",
    "y_train = np.array([200000, 250000, 220000, 280000, 300000])\n",
    "\n",
    "X_test = np.array([\n",
    "    [5, 5, 1600, 3, 1],\n",
    "    [2, 3, 1300, 2, 1]\n",
    "])\n",
    "\n",
    "knn = KNNClassifier(k=3)\n",
    "knn.fit(X_train[:, 1:], y_train)  # Ignoring the x-y coordinates for simplicity\n",
    "predictions = knn.predict(X_test[:, 1:])\n",
    "predictions = np.round(predictions, 2)\n",
    "print(\"Predicted house prices:\", predictions)"
   ]
  },
  {
   "cell_type": "markdown",
   "metadata": {},
   "source": [
    "### Iris flowers"
   ]
  },
  {
   "cell_type": "code",
   "execution_count": 35,
   "metadata": {},
   "outputs": [
    {
     "name": "stdout",
     "output_type": "stream",
     "text": [
      "1.0\n",
      "              precision    recall  f1-score   support\n",
      "\n",
      "           0       1.00      1.00      1.00        19\n",
      "           1       1.00      1.00      1.00        13\n",
      "           2       1.00      1.00      1.00        13\n",
      "\n",
      "    accuracy                           1.00        45\n",
      "   macro avg       1.00      1.00      1.00        45\n",
      "weighted avg       1.00      1.00      1.00        45\n",
      "\n"
     ]
    }
   ],
   "source": [
    "iris_flowers = load_iris()\n",
    "\n",
    "X = iris_flowers.data\n",
    "y = iris_flowers.target\n",
    "\n",
    "X_train, X_test, y_train, y_test = train_test_split(X,y,test_size=0.3,random_state=42) \n",
    "\n",
    "scaler = StandardScaler()\n",
    "X_train_scaled = scaler.fit_transform(X_train)\n",
    "X_test_scaled = scaler.transform(X_test)\n",
    "\n",
    "classifier = KNeighborsClassifier(3)\n",
    "classifier.fit(X_train_scaled,y_train)\n",
    "predict = classifier.predict(X_test_scaled)\n",
    "\n",
    "accuracy = accuracy_score(y_test, predict)\n",
    "report = classification_report(y_test, predict)\n",
    "print(accuracy)\n",
    "print(report)"
   ]
  },
  {
   "cell_type": "markdown",
   "metadata": {},
   "source": [
    "### mall data"
   ]
  },
  {
   "cell_type": "code",
   "execution_count": 36,
   "metadata": {},
   "outputs": [
    {
     "name": "stdout",
     "output_type": "stream",
     "text": [
      "Test Accuracy: 0.06666666666666667\n",
      "Test Classification Report:\n",
      "               precision    recall  f1-score   support\n",
      "\n",
      "           1       0.25      1.00      0.40         1\n",
      "           3       0.00      0.00      0.00         0\n",
      "           4       0.00      0.00      0.00         1\n",
      "           5       0.00      0.00      0.00         1\n",
      "           6       0.00      0.00      0.00         0\n",
      "           7       0.00      0.00      0.00         0\n",
      "           8       0.00      0.00      0.00         0\n",
      "           9       0.00      0.00      0.00         0\n",
      "          10       0.00      0.00      0.00         1\n",
      "          11       0.00      0.00      0.00         1\n",
      "          13       0.00      0.00      0.00         2\n",
      "          14       1.00      1.00      1.00         1\n",
      "          15       0.00      0.00      0.00         1\n",
      "          16       0.00      0.00      0.00         0\n",
      "          17       0.00      0.00      0.00         1\n",
      "          20       0.00      0.00      0.00         1\n",
      "          22       0.00      0.00      0.00         1\n",
      "          23       0.00      0.00      0.00         0\n",
      "          24       0.00      0.00      0.00         1\n",
      "          26       0.00      0.00      0.00         2\n",
      "          27       0.00      0.00      0.00         0\n",
      "          29       0.00      0.00      0.00         2\n",
      "          31       0.00      0.00      0.00         0\n",
      "          34       0.00      0.00      0.00         1\n",
      "          35       0.00      0.00      0.00         2\n",
      "          40       0.33      1.00      0.50         1\n",
      "          41       0.00      0.00      0.00         2\n",
      "          42       0.25      0.50      0.33         2\n",
      "          43       0.00      0.00      0.00         0\n",
      "          44       0.00      0.00      0.00         0\n",
      "          45       0.00      0.00      0.00         0\n",
      "          46       0.00      0.00      0.00         0\n",
      "          47       0.00      0.00      0.00         2\n",
      "          48       0.00      0.00      0.00         2\n",
      "          49       0.00      0.00      0.00         0\n",
      "          50       0.00      0.00      0.00         3\n",
      "          52       0.00      0.00      0.00         2\n",
      "          53       0.00      0.00      0.00         1\n",
      "          54       0.00      0.00      0.00         1\n",
      "          56       0.00      0.00      0.00         3\n",
      "          57       0.00      0.00      0.00         1\n",
      "          58       0.00      0.00      0.00         2\n",
      "          59       0.00      0.00      0.00         3\n",
      "          63       0.00      0.00      0.00         0\n",
      "          65       0.00      0.00      0.00         1\n",
      "          66       0.00      0.00      0.00         0\n",
      "          69       0.00      0.00      0.00         1\n",
      "          71       0.00      0.00      0.00         0\n",
      "          72       0.00      0.00      0.00         1\n",
      "          73       0.00      0.00      0.00         1\n",
      "          74       0.00      0.00      0.00         1\n",
      "          75       0.00      0.00      0.00         1\n",
      "          76       0.00      0.00      0.00         1\n",
      "          77       0.00      0.00      0.00         1\n",
      "          79       0.00      0.00      0.00         2\n",
      "          87       0.00      0.00      0.00         2\n",
      "          88       0.00      0.00      0.00         1\n",
      "          90       0.00      0.00      0.00         0\n",
      "          92       0.00      0.00      0.00         1\n",
      "          98       0.00      0.00      0.00         1\n",
      "\n",
      "    accuracy                           0.07        60\n",
      "   macro avg       0.03      0.06      0.04        60\n",
      "weighted avg       0.03      0.07      0.04        60\n",
      "\n"
     ]
    },
    {
     "name": "stderr",
     "output_type": "stream",
     "text": [
      "/home/vinnie/anaconda3/envs/ML_Alg/lib/python3.12/site-packages/sklearn/metrics/_classification.py:1469: UndefinedMetricWarning: Precision and F-score are ill-defined and being set to 0.0 in labels with no predicted samples. Use `zero_division` parameter to control this behavior.\n",
      "  _warn_prf(average, modifier, msg_start, len(result))\n",
      "/home/vinnie/anaconda3/envs/ML_Alg/lib/python3.12/site-packages/sklearn/metrics/_classification.py:1469: UndefinedMetricWarning: Precision and F-score are ill-defined and being set to 0.0 in labels with no predicted samples. Use `zero_division` parameter to control this behavior.\n",
      "  _warn_prf(average, modifier, msg_start, len(result))\n",
      "/home/vinnie/anaconda3/envs/ML_Alg/lib/python3.12/site-packages/sklearn/metrics/_classification.py:1469: UndefinedMetricWarning: Precision and F-score are ill-defined and being set to 0.0 in labels with no predicted samples. Use `zero_division` parameter to control this behavior.\n",
      "  _warn_prf(average, modifier, msg_start, len(result))\n",
      "/home/vinnie/anaconda3/envs/ML_Alg/lib/python3.12/site-packages/sklearn/metrics/_classification.py:1469: UndefinedMetricWarning: Precision and F-score are ill-defined and being set to 0.0 in labels with no predicted samples. Use `zero_division` parameter to control this behavior.\n",
      "  _warn_prf(average, modifier, msg_start, len(result))\n",
      "/home/vinnie/anaconda3/envs/ML_Alg/lib/python3.12/site-packages/sklearn/metrics/_classification.py:1469: UndefinedMetricWarning: Recall and F-score are ill-defined and being set to 0.0 in labels with no true samples. Use `zero_division` parameter to control this behavior.\n",
      "  _warn_prf(average, modifier, msg_start, len(result))\n",
      "/home/vinnie/anaconda3/envs/ML_Alg/lib/python3.12/site-packages/sklearn/metrics/_classification.py:1469: UndefinedMetricWarning: Precision and F-score are ill-defined and being set to 0.0 in labels with no predicted samples. Use `zero_division` parameter to control this behavior.\n",
      "  _warn_prf(average, modifier, msg_start, len(result))\n",
      "/home/vinnie/anaconda3/envs/ML_Alg/lib/python3.12/site-packages/sklearn/metrics/_classification.py:1469: UndefinedMetricWarning: Recall and F-score are ill-defined and being set to 0.0 in labels with no true samples. Use `zero_division` parameter to control this behavior.\n",
      "  _warn_prf(average, modifier, msg_start, len(result))\n",
      "/home/vinnie/anaconda3/envs/ML_Alg/lib/python3.12/site-packages/sklearn/metrics/_classification.py:1469: UndefinedMetricWarning: Precision and F-score are ill-defined and being set to 0.0 in labels with no predicted samples. Use `zero_division` parameter to control this behavior.\n",
      "  _warn_prf(average, modifier, msg_start, len(result))\n",
      "/home/vinnie/anaconda3/envs/ML_Alg/lib/python3.12/site-packages/sklearn/metrics/_classification.py:1469: UndefinedMetricWarning: Recall and F-score are ill-defined and being set to 0.0 in labels with no true samples. Use `zero_division` parameter to control this behavior.\n",
      "  _warn_prf(average, modifier, msg_start, len(result))\n"
     ]
    }
   ],
   "source": [
    "mall_data_df = pd.read_csv(\"Mall_Customers.csv\")\n",
    "\n",
    "X = mall_data_df.drop(\"Spending Score (1-100)\", axis=1)\n",
    "y = mall_data_df[\"Spending Score (1-100)\"]\n",
    "\n",
    "X_train, X_test, y_train, y_test = train_test_split(X, y, test_size=0.3, random_state=42)\n",
    "\n",
    "scaler = StandardScaler()\n",
    "x_train_n_scaled = scaler.fit_transform(X_train[[\"Age\", \"Annual Income (k$)\"]])\n",
    "x_test_n_scaled = scaler.transform(X_test[[\"Age\", \"Annual Income (k$)\"]])\n",
    "\n",
    "ohe = OneHotEncoder()\n",
    "x_train_f_scaled = ohe.fit_transform(X_train[[\"Gender\"]]).toarray()\n",
    "x_test_f_scaled = ohe.transform(X_test[[\"Gender\"]]).toarray()\n",
    "\n",
    "x_train_scaled = np.hstack([x_train_f_scaled, x_train_n_scaled])\n",
    "x_test_scaled = np.hstack([x_test_f_scaled, x_test_n_scaled])\n",
    "\n",
    "classifier = KNeighborsClassifier(n_neighbors=3)\n",
    "classifier.fit(x_train_scaled, y_train)\n",
    "\n",
    "predict = classifier.predict(x_train_scaled)\n",
    "\n",
    "accuracy = accuracy_score(y_train, predict)\n",
    "report = classification_report(y_train, predict)\n",
    "\n",
    "test_predict = classifier.predict(x_test_scaled)\n",
    "\n",
    "test_accuracy = accuracy_score(y_test, test_predict)\n",
    "test_report = classification_report(y_test, test_predict)\n",
    "\n",
    "print(\"Test Accuracy:\", test_accuracy)\n",
    "print(\"Test Classification Report:\\n\", test_report)\n"
   ]
  },
  {
   "cell_type": "markdown",
   "metadata": {},
   "source": [
    "# Week 2"
   ]
  },
  {
   "cell_type": "markdown",
   "metadata": {},
   "source": [
    "## Support Vector Machine"
   ]
  },
  {
   "cell_type": "markdown",
   "metadata": {},
   "source": [
    "### Breast Cancer "
   ]
  },
  {
   "cell_type": "code",
   "execution_count": null,
   "metadata": {},
   "outputs": [],
   "source": []
  },
  {
   "cell_type": "code",
   "execution_count": 37,
   "metadata": {},
   "outputs": [
    {
     "name": "stdout",
     "output_type": "stream",
     "text": [
      "0.9824561403508771\n",
      "              precision    recall  f1-score   support\n",
      "\n",
      "           0       0.98      0.97      0.98        63\n",
      "           1       0.98      0.99      0.99       108\n",
      "\n",
      "    accuracy                           0.98       171\n",
      "   macro avg       0.98      0.98      0.98       171\n",
      "weighted avg       0.98      0.98      0.98       171\n",
      "\n"
     ]
    }
   ],
   "source": [
    "cancer_df = load_breast_cancer()\n",
    "\n",
    "X = cancer_df.data\n",
    "y = cancer_df.target\n",
    "\n",
    "x_train, x_test, y_train, y_test = train_test_split(X,y,test_size=0.3,random_state=42)\n",
    "\n",
    "scaler = StandardScaler()\n",
    "\n",
    "x_train_scaled = scaler.fit_transform(x_train, y_train)\n",
    "x_test_scaled = scaler.fit_transform(x_test)\n",
    "\n",
    "svm = SVC()\n",
    "svm.fit(X=x_train_scaled, y=y_train)\n",
    "test_predict = svm.predict(x_test_scaled)\n",
    "\n",
    "accuracy = accuracy_score(y_test, test_predict)\n",
    "report = classification_report(y_test,test_predict)\n",
    "\n",
    "print(accuracy)\n",
    "print(report)\n"
   ]
  },
  {
   "cell_type": "markdown",
   "metadata": {},
   "source": [
    "### Digits"
   ]
  },
  {
   "cell_type": "code",
   "execution_count": 38,
   "metadata": {},
   "outputs": [
    {
     "name": "stdout",
     "output_type": "stream",
     "text": [
      "0.9796296296296296\n",
      "              precision    recall  f1-score   support\n",
      "\n",
      "           0       1.00      1.00      1.00        53\n",
      "           1       1.00      1.00      1.00        50\n",
      "           2       0.94      1.00      0.97        47\n",
      "           3       0.98      0.94      0.96        54\n",
      "           4       0.98      1.00      0.99        60\n",
      "           5       0.97      0.98      0.98        66\n",
      "           6       0.98      1.00      0.99        53\n",
      "           7       1.00      0.98      0.99        55\n",
      "           8       0.95      0.95      0.95        43\n",
      "           9       0.98      0.93      0.96        59\n",
      "\n",
      "    accuracy                           0.98       540\n",
      "   macro avg       0.98      0.98      0.98       540\n",
      "weighted avg       0.98      0.98      0.98       540\n",
      "\n"
     ]
    }
   ],
   "source": [
    "digits_df = load_digits()\n",
    "\n",
    "X = digits_df.data\n",
    "y = digits_df.target\n",
    "\n",
    "X_train, X_test, y_train, y_test = train_test_split(X,y,test_size=0.3, random_state=42)\n",
    "\n",
    "scaler = StandardScaler()\n",
    "\n",
    "X_train_scaled = scaler.fit_transform(X_train)\n",
    "X_test_scaled = scaler.fit_transform(X_test)\n",
    "\n",
    "svm = SVC()\n",
    "\n",
    "svm.fit(X=X_train_scaled,y=y_train)\n",
    "prediction = svm.predict(X_test_scaled)\n",
    "\n",
    "accuracy = accuracy_score(y_test, prediction)\n",
    "report = classification_report(y_test,prediction)\n",
    "\n",
    "print(accuracy)\n",
    "print(report)"
   ]
  },
  {
   "cell_type": "markdown",
   "metadata": {},
   "source": [
    "### Wijn"
   ]
  },
  {
   "cell_type": "code",
   "execution_count": 39,
   "metadata": {},
   "outputs": [
    {
     "name": "stdout",
     "output_type": "stream",
     "text": [
      "0.9814814814814815\n",
      "              precision    recall  f1-score   support\n",
      "\n",
      "           0       1.00      1.00      1.00        19\n",
      "           1       1.00      0.95      0.98        21\n",
      "           2       0.93      1.00      0.97        14\n",
      "\n",
      "    accuracy                           0.98        54\n",
      "   macro avg       0.98      0.98      0.98        54\n",
      "weighted avg       0.98      0.98      0.98        54\n",
      "\n",
      "0.9814814814814815\n",
      "              precision    recall  f1-score   support\n",
      "\n",
      "           0       1.00      1.00      1.00        19\n",
      "           1       1.00      0.95      0.98        21\n",
      "           2       0.93      1.00      0.97        14\n",
      "\n",
      "    accuracy                           0.98        54\n",
      "   macro avg       0.98      0.98      0.98        54\n",
      "weighted avg       0.98      0.98      0.98        54\n",
      "\n"
     ]
    }
   ],
   "source": [
    "wijn_df = load_wine()\n",
    "\n",
    "X = wijn_df.data\n",
    "y = wijn_df.target\n",
    "\n",
    "X_train,X_test,y_train,y_test = train_test_split(X,y, test_size=0.3, random_state=42)\n",
    "\n",
    "scaler = StandardScaler()\n",
    "X_train_scaled = scaler.fit_transform(X_train)\n",
    "X_test_scaled = scaler.fit_transform(X_test)\n",
    "\n",
    "svm = SVC(kernel=\"linear\")\n",
    "svm.fit(X_train_scaled, y_train)\n",
    "predict = svm.predict(X_test_scaled)\n",
    "\n",
    "accuracy = accuracy_score(y_test, predict)\n",
    "report = classification_report(y_test,predict)\n",
    "\n",
    "print(accuracy)\n",
    "print(report)\n",
    "\n",
    "svm = SVC(kernel=\"linear\", max_iter=1000000)\n",
    "svm.fit(X_train_scaled, y_train)\n",
    "predict = svm.predict(X_test_scaled)\n",
    "\n",
    "accuracy = accuracy_score(y_test, predict)\n",
    "report = classification_report(y_test,predict)\n",
    "\n",
    "print(accuracy)\n",
    "print(report)\n",
    "\n"
   ]
  },
  {
   "cell_type": "markdown",
   "metadata": {},
   "source": [
    "### SVM KERNELS"
   ]
  },
  {
   "cell_type": "code",
   "execution_count": 40,
   "metadata": {},
   "outputs": [
    {
     "data": {
      "text/plain": [
       "0.984"
      ]
     },
     "execution_count": 40,
     "metadata": {},
     "output_type": "execute_result"
    }
   ],
   "source": [
    "smv_clf = make_pipeline(StandardScaler(), SVC(kernel=\"linear\", max_iter=1000000))\n",
    "cross_val_score(smv_clf, X_train, y_train).mean()"
   ]
  },
  {
   "cell_type": "markdown",
   "metadata": {},
   "source": [
    "### Regressie met een SVM"
   ]
  },
  {
   "cell_type": "code",
   "execution_count": 47,
   "metadata": {},
   "outputs": [
    {
     "data": {
      "text/plain": [
       "0.703737912636623"
      ]
     },
     "execution_count": 47,
     "metadata": {},
     "output_type": "execute_result"
    }
   ],
   "source": [
    "np.random.seed(42)\n",
    "X = 2 * np.random.rand(50,1)-1\n",
    "y = 0.2 + 0.1 * X[: ,0] + 0.5*X[:,0]**2 + np.random.randn(50)/10\n",
    "\n",
    "pipeline = make_pipeline(StandardScaler(),SVR(kernel=\"poly\",degree=2))\n",
    "\n",
    "\n",
    "cross_val_score(pipeline, X,y).mean()"
   ]
  },
  {
   "cell_type": "markdown",
   "metadata": {},
   "source": [
    "# Week 3"
   ]
  },
  {
   "cell_type": "markdown",
   "metadata": {},
   "source": [
    "## Decision Trees"
   ]
  },
  {
   "cell_type": "markdown",
   "metadata": {},
   "source": [
    "### Wine dataset decision Tree"
   ]
  },
  {
   "cell_type": "code",
   "execution_count": 2,
   "metadata": {},
   "outputs": [
    {
     "name": "stdout",
     "output_type": "stream",
     "text": [
      "0.8333333333333334\n",
      "              precision    recall  f1-score   support\n",
      "\n",
      "           0       0.65      1.00      0.79        13\n",
      "           1       0.94      0.68      0.79        25\n",
      "           2       0.94      0.94      0.94        16\n",
      "\n",
      "    accuracy                           0.83        54\n",
      "   macro avg       0.84      0.87      0.84        54\n",
      "weighted avg       0.87      0.83      0.83        54\n",
      "\n"
     ]
    }
   ],
   "source": [
    "wine_df = load_wine()\n",
    "\n",
    "X = wine_df.data\n",
    "y = wine_df.target\n",
    "\n",
    "X_train,X_test,y_train,y_test = train_test_split(X,y,test_size=0.3)\n",
    "\n",
    "scaler = StandardScaler()\n",
    "\n",
    "X_train = scaler.fit_transform(X_train)\n",
    "X_test = scaler.fit_transform(X_test)\n",
    "\n",
    "tree = DecisionTreeClassifier()\n",
    "\n",
    "tree.fit(X_train, y_train)\n",
    "predict = tree.predict(X_test)\n",
    "\n",
    "accuracy = accuracy_score(y_test,predict)\n",
    "report = classification_report(y_test,predict)\n",
    "\n",
    "print(accuracy)\n",
    "print(report)"
   ]
  }
 ],
 "metadata": {
  "kernelspec": {
   "display_name": "ml_algorithms_env",
   "language": "python",
   "name": "python3"
  },
  "language_info": {
   "codemirror_mode": {
    "name": "ipython",
    "version": 3
   },
   "file_extension": ".py",
   "mimetype": "text/x-python",
   "name": "python",
   "nbconvert_exporter": "python",
   "pygments_lexer": "ipython3",
   "version": "3.12.0"
  }
 },
 "nbformat": 4,
 "nbformat_minor": 2
}
