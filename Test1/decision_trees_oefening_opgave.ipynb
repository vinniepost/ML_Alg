{
 "cells": [
  {
   "cell_type": "markdown",
   "metadata": {},
   "source": [
    "# Oefeningen Decision Trees\n",
    "\n",
    "Vergelijk twee beslissingsbomen met een andere random state voor de Wine dataset. Wat is je conclusie over de mate waarin je kunt voorspellen hoe een decision tree zich gedraagt ? Maak een visualisatie van de eerste twee features en toon de decision boundaries voor elk van de twee bomen. Breng voor alle duidelijkheid ook verandering aan in je train-test split, gebruik ook hier een verschillende seed!"
   ]
  },
  {
   "cell_type": "code",
   "execution_count": null,
   "metadata": {},
   "outputs": [],
   "source": [
    "import numpy as np\n",
    "from sklearn.datasets import load_wine\n",
    "from sklearn.model_selection import train_test_split\n",
    "from sklearn.tree import DecisionTreeClassifier\n",
    "\n",
    "# Load the wine dataset\n",
    "\n",
    "#standardscaler toepassen!\n",
    "\n",
    "# Split the dataset \n",
    "\n",
    "# Eerste decision tree\n",
    "\n",
    "# Tweede decision tre\n"
   ]
  },
  {
   "cell_type": "markdown",
   "metadata": {},
   "source": [
    "Je kan van sklearn.tree de methode plot_tree importeren. Daar kan je een getraind model aan meegeven en de feature names en class names, en dan wordt er snel een mooie visualisatie gemaakt."
   ]
  },
  {
   "cell_type": "code",
   "execution_count": null,
   "metadata": {},
   "outputs": [],
   "source": [
    "import matplotlib.pyplot as plt\n",
    "from sklearn.tree import plot_tree\n",
    "\n",
    "# We maken een prentje om ze naast ear weer te geven\n",
    "plt.figure(figsize=(12, 6))\n",
    "\n",
    "# Links de eerste beslissingsboom\n",
    "plt.subplot(1, 2, 1)\n",
    "plot_tree(clf1, feature_names=wine.feature_names, class_names=wine.target_names, filled=True)\n",
    "plt.title(\"Decision Tree Classifier (Random Seed = 1)\")\n",
    "\n",
    "# Rechts de tweede beslissingsboom\n",
    "plt.subplot(1, 2, 2)\n",
    "plot_tree(clf2, feature_names=wine.feature_names, class_names=wine.target_names, filled=True)\n",
    "plt.title(\"Decision Tree Classifier (Random Seed = 2)\")\n",
    "\n",
    "plt.tight_layout()\n",
    "plt.show()"
   ]
  },
  {
   "cell_type": "markdown",
   "metadata": {},
   "source": [
    "Maak nu een simpeler model met enkel de eerste twee features van de dataset. Plot de decision boundary voor deze figuren (ChatGPT toegelaten voor plots)."
   ]
  },
  {
   "cell_type": "code",
   "execution_count": null,
   "metadata": {},
   "outputs": [],
   "source": []
  },
  {
   "cell_type": "markdown",
   "metadata": {},
   "source": [
    "## Voting classifier\n",
    "Implementeer een voting classifier met verschillende onderliggende estimators en vergelijk de performantie met 1 enkele decision tree. Gebruik Breast Cancer dataset."
   ]
  },
  {
   "cell_type": "code",
   "execution_count": null,
   "metadata": {},
   "outputs": [],
   "source": [
    "from sklearn.datasets import load_breast_cancer\n",
    "from sklearn.model_selection import train_test_split\n",
    "from sklearn.ensemble import VotingClassifier\n",
    "from sklearn.linear_model import LogisticRegression\n",
    "from sklearn.neighbors import KNeighborsClassifier\n",
    "from sklearn.tree import DecisionTreeClassifier\n",
    "from sklearn.svm import SVC\n",
    "from sklearn.metrics import accuracy_score"
   ]
  },
  {
   "cell_type": "code",
   "execution_count": null,
   "metadata": {},
   "outputs": [],
   "source": [
    "# Inladen dataset\n"
   ]
  },
  {
   "cell_type": "code",
   "execution_count": null,
   "metadata": {},
   "outputs": [],
   "source": [
    "#Splitten in train-test"
   ]
  },
  {
   "cell_type": "code",
   "execution_count": null,
   "metadata": {},
   "outputs": [],
   "source": [
    "# creëer individuele indentifiers zoals decision tree, svm, KNN"
   ]
  },
  {
   "cell_type": "code",
   "execution_count": null,
   "metadata": {},
   "outputs": [],
   "source": [
    "# creeër voting classifier, met soft voting"
   ]
  },
  {
   "cell_type": "code",
   "execution_count": null,
   "metadata": {},
   "outputs": [],
   "source": [
    "# Training"
   ]
  },
  {
   "cell_type": "code",
   "execution_count": null,
   "metadata": {},
   "outputs": [],
   "source": [
    "# Evaluatie"
   ]
  },
  {
   "cell_type": "code",
   "execution_count": null,
   "metadata": {},
   "outputs": [],
   "source": [
    "# Pas nu de classifier aan voor soft voting"
   ]
  },
  {
   "cell_type": "code",
   "execution_count": null,
   "metadata": {},
   "outputs": [],
   "source": [
    "# Bekijk ook de individuele performantie van de onderliggende classifiers (kleine for loop over individual_estimators)"
   ]
  },
  {
   "cell_type": "code",
   "execution_count": null,
   "metadata": {},
   "outputs": [],
   "source": [
    "individual_estimators = [knn_classifier, decision_tree_classifier, svm_classifier]\n",
    "for estimator in individual_estimators:\n",
    "    estimator.fit(X_train, y_train)\n",
    "    y_pred = estimator.predict(X_test)\n",
    "    accuracy = accuracy_score(y_test, y_pred)\n",
    "    print(f\"Accuracy of {estimator.__class__.__name__}: {accuracy:.4f}\")"
   ]
  },
  {
   "cell_type": "markdown",
   "metadata": {},
   "source": [
    "## Bagging"
   ]
  },
  {
   "cell_type": "markdown",
   "metadata": {},
   "source": [
    "Gebruik opnieuw de Wine dataset."
   ]
  },
  {
   "cell_type": "code",
   "execution_count": null,
   "metadata": {},
   "outputs": [],
   "source": [
    "from sklearn.datasets import load_wine\n",
    "from sklearn.model_selection import train_test_split\n",
    "from sklearn.ensemble import BaggingClassifier\n",
    "from sklearn.tree import DecisionTreeClassifier\n",
    "from sklearn.metrics import accuracy_score"
   ]
  },
  {
   "cell_type": "code",
   "execution_count": null,
   "metadata": {},
   "outputs": [],
   "source": [
    "# data inladen\n"
   ]
  },
  {
   "cell_type": "code",
   "execution_count": null,
   "metadata": {},
   "outputs": [],
   "source": [
    "#split data"
   ]
  },
  {
   "cell_type": "code",
   "execution_count": null,
   "metadata": {},
   "outputs": [],
   "source": [
    "# bagging met 100 bomen\n"
   ]
  },
  {
   "cell_type": "code",
   "execution_count": null,
   "metadata": {},
   "outputs": [],
   "source": [
    "# trainen"
   ]
  },
  {
   "cell_type": "code",
   "execution_count": null,
   "metadata": {},
   "outputs": [],
   "source": [
    "# vergelijk met 1 enkele boom"
   ]
  },
  {
   "cell_type": "code",
   "execution_count": null,
   "metadata": {},
   "outputs": [],
   "source": [
    "#vergelijk de accuracy scores\n"
   ]
  },
  {
   "cell_type": "markdown",
   "metadata": {},
   "source": [
    "## AdaBoost vs XGBoost\n",
    "Vergelijk Adaboost en XGBoost toegepast op de Titanic dataset die we in een eerder labo al hebben gebruikt. We gebruiken voor elke classifier 100 onderliggende estimators."
   ]
  },
  {
   "cell_type": "markdown",
   "metadata": {},
   "source": [
    "Data voorbereiding:"
   ]
  },
  {
   "cell_type": "code",
   "execution_count": null,
   "metadata": {},
   "outputs": [],
   "source": [
    "import pandas as pd\n",
    "from sklearn.model_selection import train_test_split\n",
    "from sklearn.preprocessing import LabelEncoder, StandardScaler\n",
    "from sklearn.impute import SimpleImputer"
   ]
  },
  {
   "cell_type": "code",
   "execution_count": null,
   "metadata": {},
   "outputs": [],
   "source": [
    "# data inladen\n",
    "titanic = pd.read_csv(\"data/titanic_dataset.csv\")"
   ]
  },
  {
   "cell_type": "code",
   "execution_count": null,
   "metadata": {},
   "outputs": [],
   "source": [
    "# data cleansing, deze data heeft nog wat werk nodig\n",
    "# je mag de kolommen passengerID, name, ticket en cabin verwijderen"
   ]
  },
  {
   "cell_type": "code",
   "execution_count": null,
   "metadata": {},
   "outputs": [],
   "source": [
    "# Omgaan met missing values voor de Age kolommen.\n",
    "\n",
    "# Categorische features encoderen"
   ]
  },
  {
   "cell_type": "code",
   "execution_count": null,
   "metadata": {},
   "outputs": [],
   "source": [
    "# X en y bepalen uit deze dataset. We willen voorspellen wie de ramp heeft overleefd"
   ]
  },
  {
   "cell_type": "code",
   "execution_count": null,
   "metadata": {},
   "outputs": [],
   "source": []
  },
  {
   "cell_type": "markdown",
   "metadata": {},
   "source": [
    "We maken een visualisatie om wat feeling te krijgen voor deze dataset met Seaborn, pairplot van de feature. Seaborn is een andere library die verderbouwt op matplotlib en ook heel populair is. Deze kan je best ook installeren in je conda omgeving."
   ]
  },
  {
   "cell_type": "code",
   "execution_count": null,
   "metadata": {},
   "outputs": [],
   "source": [
    "import seaborn as sns\n",
    "import matplotlib.pyplot as plt\n",
    "\n",
    "predictions_df = pd.concat([X, y], axis=1)\n",
    "\n",
    "# Pairplot, kan inzicht geven over hoe de data zich gedraagt\n",
    "sns.set(style='ticks')\n",
    "sns.pairplot(predictions_df, hue='Survived', palette='coolwarm', markers=[\"o\", \"s\", \"D\"])\n",
    "plt.suptitle('Pairplot van Features met Color-Coded True Labels')\n",
    "plt.subplots_adjust(top=0.9)\n",
    "plt.show()"
   ]
  },
  {
   "cell_type": "markdown",
   "metadata": {},
   "source": [
    "### Adaboost"
   ]
  },
  {
   "cell_type": "code",
   "execution_count": null,
   "metadata": {},
   "outputs": [],
   "source": [
    "from sklearn.ensemble import AdaBoostClassifier\n",
    "from sklearn.metrics import accuracy_score, precision_score, recall_score, f1_score, confusion_matrix"
   ]
  },
  {
   "cell_type": "code",
   "execution_count": null,
   "metadata": {},
   "outputs": [],
   "source": [
    "# adaboost model trainen"
   ]
  },
  {
   "cell_type": "code",
   "execution_count": null,
   "metadata": {},
   "outputs": [],
   "source": [
    "# voorspellingen maken op testdata"
   ]
  },
  {
   "cell_type": "code",
   "execution_count": null,
   "metadata": {},
   "outputs": [],
   "source": [
    "# uitgebreide evaluatiemetrieken\n",
    "accuracy_ada = accuracy_score(y_test, y_pred_ada)\n",
    "precision_ada = precision_score(y_test, y_pred_ada)\n",
    "recall_ada = recall_score(y_test, y_pred_ada)\n",
    "f1_ada = f1_score(y_test, y_pred_ada)\n",
    "confusion_ada = confusion_matrix(y_test, y_pred_ada)\n",
    "\n",
    "print(\"AdaBoost Classifier metrieken:\")\n",
    "print(f\"Accuracy: {accuracy_ada:.2f}\")\n",
    "print(f\"Precision: {precision_ada:.2f}\")\n",
    "print(f\"Recall: {recall_ada:.2f}\")\n",
    "print(f\"F1 Score: {f1_ada:.2f}\")\n",
    "print(\"Confusion Matrix:\")\n",
    "print(confusion_ada)"
   ]
  },
  {
   "cell_type": "markdown",
   "metadata": {},
   "source": [
    "### XGBoost"
   ]
  },
  {
   "cell_type": "code",
   "execution_count": null,
   "metadata": {},
   "outputs": [],
   "source": [
    "#importeer de classifier. Mogelijk moet je conda omgeving aanpassen door XGBoost te installeren"
   ]
  },
  {
   "cell_type": "code",
   "execution_count": null,
   "metadata": {},
   "outputs": [],
   "source": [
    "# model aanmaken en fitten"
   ]
  },
  {
   "cell_type": "code",
   "execution_count": null,
   "metadata": {},
   "outputs": [],
   "source": [
    "# predicties maken"
   ]
  },
  {
   "cell_type": "code",
   "execution_count": null,
   "metadata": {},
   "outputs": [],
   "source": [
    "# uitgebreide scoringsmetrieken\n",
    "accuracy_xgb = accuracy_score(y_test, y_pred_xgb)\n",
    "precision_xgb = precision_score(y_test, y_pred_xgb)\n",
    "recall_xgb = recall_score(y_test, y_pred_xgb)\n",
    "f1_xgb = f1_score(y_test, y_pred_xgb)\n",
    "confusion_xgb = confusion_matrix(y_test, y_pred_xgb)\n",
    "\n",
    "print(\"\\nXGBoost Classifier Metrics:\")\n",
    "print(f\"Accuracy: {accuracy_xgb:.2f}\")\n",
    "print(f\"Precision: {precision_xgb:.2f}\")\n",
    "print(f\"Recall: {recall_xgb:.2f}\")\n",
    "print(f\"F1 Score: {f1_xgb:.2f}\")\n",
    "print(\"Confusion Matrix:\")\n",
    "print(confusion_xgb)"
   ]
  }
 ],
 "metadata": {
  "kernelspec": {
   "display_name": "ml_algorithms",
   "language": "python",
   "name": "python3"
  },
  "language_info": {
   "codemirror_mode": {
    "name": "ipython",
    "version": 3
   },
   "file_extension": ".py",
   "mimetype": "text/x-python",
   "name": "python",
   "nbconvert_exporter": "python",
   "pygments_lexer": "ipython3",
   "version": "3.11.4"
  },
  "orig_nbformat": 4
 },
 "nbformat": 4,
 "nbformat_minor": 2
}
