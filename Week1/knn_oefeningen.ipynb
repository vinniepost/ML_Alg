{
 "cells": [
  {
   "cell_type": "markdown",
   "metadata": {},
   "source": [
    "# Oefeningen week 1\n",
    "\n",
    "## Conda\n",
    "- Maak een aparte directory voor dit vak\n",
    "- Maak een conda omgeving voor dit vak 'ml_algorithms'\n",
    "- Gebruik deze omgeving om gaandeweg packages toe te voegen naargelang nodig. Hou je versie bij in een environment.yml file.\n",
    "    - matplotlib, pandas, numpy, scikit-learn zijn al essentieel om te kunnen starten."
   ]
  },
  {
   "cell_type": "markdown",
   "metadata": {},
   "source": [
    "## KNN\n",
    "Implementeer KNN in Python, gebruik de code snippet hieronder als startpunt."
   ]
  },
  {
   "cell_type": "code",
   "execution_count": 2,
   "metadata": {},
   "outputs": [
    {
     "ename": "AttributeError",
     "evalue": "'list' object has no attribute 'round'",
     "output_type": "error",
     "traceback": [
      "\u001b[0;31m---------------------------------------------------------------------------\u001b[0m",
      "\u001b[0;31mAttributeError\u001b[0m                            Traceback (most recent call last)",
      "\u001b[1;32m/home/vinnie/ML_algorithms/knn_oefeningen.ipynb Cell 3\u001b[0m line \u001b[0;36m4\n\u001b[1;32m     <a href='vscode-notebook-cell://wsl%2Bubuntu/home/vinnie/ML_algorithms/knn_oefeningen.ipynb#W2sdnNjb2RlLXJlbW90ZQ%3D%3D?line=46'>47</a>\u001b[0m knn \u001b[39m=\u001b[39m KNNClassifier(k\u001b[39m=\u001b[39m\u001b[39m3\u001b[39m)\n\u001b[1;32m     <a href='vscode-notebook-cell://wsl%2Bubuntu/home/vinnie/ML_algorithms/knn_oefeningen.ipynb#W2sdnNjb2RlLXJlbW90ZQ%3D%3D?line=47'>48</a>\u001b[0m knn\u001b[39m.\u001b[39mfit(X_train[:, \u001b[39m1\u001b[39m:], y_train)  \u001b[39m# Ignoring the x-y coordinates for simplicity\u001b[39;00m\n\u001b[0;32m---> <a href='vscode-notebook-cell://wsl%2Bubuntu/home/vinnie/ML_algorithms/knn_oefeningen.ipynb#W2sdnNjb2RlLXJlbW90ZQ%3D%3D?line=48'>49</a>\u001b[0m predictions \u001b[39m=\u001b[39m knn\u001b[39m.\u001b[39mpredict(X_test[:, \u001b[39m1\u001b[39m:])\n\u001b[1;32m     <a href='vscode-notebook-cell://wsl%2Bubuntu/home/vinnie/ML_algorithms/knn_oefeningen.ipynb#W2sdnNjb2RlLXJlbW90ZQ%3D%3D?line=49'>50</a>\u001b[0m \u001b[39mprint\u001b[39m(\u001b[39m\"\u001b[39m\u001b[39mPredicted house prices:\u001b[39m\u001b[39m\"\u001b[39m, predictions)\n",
      "\u001b[1;32m/home/vinnie/ML_algorithms/knn_oefeningen.ipynb Cell 3\u001b[0m line \u001b[0;36m2\n\u001b[1;32m     <a href='vscode-notebook-cell://wsl%2Bubuntu/home/vinnie/ML_algorithms/knn_oefeningen.ipynb#W2sdnNjb2RlLXJlbW90ZQ%3D%3D?line=18'>19</a>\u001b[0m \u001b[39mdef\u001b[39;00m \u001b[39mpredict\u001b[39m(\u001b[39mself\u001b[39m, X):\n\u001b[1;32m     <a href='vscode-notebook-cell://wsl%2Bubuntu/home/vinnie/ML_algorithms/knn_oefeningen.ipynb#W2sdnNjb2RlLXJlbW90ZQ%3D%3D?line=19'>20</a>\u001b[0m     \u001b[39m#todo\u001b[39;00m\n\u001b[0;32m---> <a href='vscode-notebook-cell://wsl%2Bubuntu/home/vinnie/ML_algorithms/knn_oefeningen.ipynb#W2sdnNjb2RlLXJlbW90ZQ%3D%3D?line=20'>21</a>\u001b[0m     predictions \u001b[39m=\u001b[39m [\u001b[39mself\u001b[39m\u001b[39m.\u001b[39m_predict(x) \u001b[39mfor\u001b[39;00m x \u001b[39min\u001b[39;00m X]\u001b[39m.\u001b[39mround(\u001b[39m2\u001b[39m)\n\u001b[1;32m     <a href='vscode-notebook-cell://wsl%2Bubuntu/home/vinnie/ML_algorithms/knn_oefeningen.ipynb#W2sdnNjb2RlLXJlbW90ZQ%3D%3D?line=21'>22</a>\u001b[0m     \u001b[39mreturn\u001b[39;00m np\u001b[39m.\u001b[39marray(predictions)\n",
      "\u001b[0;31mAttributeError\u001b[0m: 'list' object has no attribute 'round'"
     ]
    }
   ],
   "source": [
    "import numpy as np\n",
    "from collections import Counter\n",
    "\n",
    "class KNNClassifier:\n",
    "    def __init__(self, k=3):\n",
    "        self.k = k\n",
    "        self.X_train = None\n",
    "        self.y_train = None\n",
    "\n",
    "    def fit(self, X, y):\n",
    "        #todo\n",
    "        self.X_train = X\n",
    "        self.y_train = y\n",
    "\n",
    "\n",
    "    def euclidean_distance(self, x1, x2): # deze Euclidische afstand krijg je cadeau\n",
    "        return np.sqrt(np.sum((x1 - x2)**2))\n",
    "\n",
    "    def predict(self, X):\n",
    "        #todo\n",
    "        predictions = [self._predict(x) for x in X]\n",
    "        return np.array(predictions)\n",
    "\n",
    "    def _predict(self, x):\n",
    "        #todo\n",
    "        dist = [self.euclidean_distance(x, x_train) for x_train in self.X_train]\n",
    "\n",
    "        i = np.argsort(dist)[:self.k]\n",
    "        return np.mean(self.y_train[i])\n",
    "\n",
    "# Sample dataset\n",
    "X_train = np.array([\n",
    "    [0, 0, 1000, 2, 1],\n",
    "    [1, 1, 1500, 3, 2],\n",
    "    [2, 2, 1200, 2, 1],\n",
    "    [3, 3, 1800, 4, 2],\n",
    "    [4, 4, 2000, 3, 2]\n",
    "])\n",
    "\n",
    "y_train = np.array([200000, 250000, 220000, 280000, 300000])\n",
    "\n",
    "X_test = np.array([\n",
    "    [5, 5, 1600, 3, 1],\n",
    "    [2, 3, 1300, 2, 1]\n",
    "])\n",
    "\n",
    "knn = KNNClassifier(k=3)\n",
    "knn.fit(X_train[:, 1:], y_train)  # Ignoring the x-y coordinates for simplicity\n",
    "predictions = knn.predict(X_test[:, 1:])\n",
    "print(\"Predicted house prices:\", predictions)"
   ]
  },
  {
   "cell_type": "markdown",
   "metadata": {},
   "source": [
    "### Iris Flowers dataset"
   ]
  },
  {
   "cell_type": "markdown",
   "metadata": {},
   "source": [
    "- Haal de dataset van de iris flowers binnen. Ze zit ingebakken in sci-kit-learn\n",
    "- Gebruik de sci-kit learn library om een KNN classifier te trainen.\n",
    "- Vergeet niet je algoritme te scoren\n",
    "- Bekijk het effect van het al dan niet gebruiken van een StandardScaler"
   ]
  },
  {
   "cell_type": "code",
   "execution_count": null,
   "metadata": {},
   "outputs": [],
   "source": [
    "#code"
   ]
  },
  {
   "cell_type": "markdown",
   "metadata": {},
   "source": [
    "## Mall customers\n",
    "\n",
    "Bekijk de data van de Mall_customers.csv - laad deze in en bekijk de kolommen. Pas hier KNN toe (laatste kolom spending score is het te voorspellen label). Wat moet je nog aanpassen om dit goed te laten werken ?"
   ]
  },
  {
   "cell_type": "code",
   "execution_count": null,
   "metadata": {},
   "outputs": [],
   "source": [
    "#code"
   ]
  },
  {
   "cell_type": "markdown",
   "metadata": {},
   "source": []
  }
 ],
 "metadata": {
  "kernelspec": {
   "display_name": "ml_algorithms_env",
   "language": "python",
   "name": "python3"
  },
  "language_info": {
   "codemirror_mode": {
    "name": "ipython",
    "version": 3
   },
   "file_extension": ".py",
   "mimetype": "text/x-python",
   "name": "python",
   "nbconvert_exporter": "python",
   "pygments_lexer": "ipython3",
   "version": "3.11.5"
  },
  "orig_nbformat": 4
 },
 "nbformat": 4,
 "nbformat_minor": 2
}
